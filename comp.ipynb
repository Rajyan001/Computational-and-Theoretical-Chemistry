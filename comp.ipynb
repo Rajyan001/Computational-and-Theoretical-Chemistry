{
 "cells": [
  {
   "attachments": {},
   "cell_type": "markdown",
   "metadata": {},
   "source": [
    "                                                                      **Iteration File** "
   ]
  },
  {
   "attachments": {},
   "cell_type": "markdown",
   "metadata": {},
   "source": [
    "***Importing libraries and algorithm for Integrals***"
   ]
  },
  {
   "cell_type": "code",
   "execution_count": 1,
   "metadata": {},
   "outputs": [],
   "source": [
    "import numpy as np\n",
    "import time\n",
    "import scf\n",
    "import sympy as sp"
   ]
  },
  {
   "cell_type": "code",
   "execution_count": 2,
   "metadata": {},
   "outputs": [],
   "source": [
    "r,r1,r2,zeta=sp.symbols(\"r,r1,r2,zeta\")\n",
    "n=sp.symbols(\"n\", integer=True)"
   ]
  },
  {
   "attachments": {},
   "cell_type": "markdown",
   "metadata": {},
   "source": [
    "***The iteration code***"
   ]
  },
  {
   "cell_type": "code",
   "execution_count": 3,
   "metadata": {},
   "outputs": [],
   "source": [
    "verbose=True \n",
    "MAXITER=50   #assigning the maximum number of iterations that should be carried out\n",
    "E_convergence = 1.0e-7  #limit for energy convergence\n",
    "def scf_hf_calc(basis,Z, charge):\n",
    "    print(\"\")\n",
    "    print(\"---------------------------------------------------------------Intialization of SCF Calculation-------------------------------------------------------------------\")\n",
    "    print(\"-----------------------------------------------------------------Caclulating the Base Matrices--------------------------------------------------------------------\")\n",
    "    N = Z-charge\n",
    "    #calling the fixed matrices\n",
    "    start=time.time()\n",
    "    #the overlap matrix\n",
    "    s_mat=scf.S_mat(basis)\n",
    "\n",
    "    #the core hamiltonian matrix\n",
    "    h_core_mat=scf.H_core_mat(basis,Z)\n",
    "\n",
    "    #Orbital Energies and Orbital Coefficient\n",
    "    OrbE, Coef= scf.sec_eqn(h_core_mat,s_mat)\n",
    "\n",
    "    #density matrix\n",
    "    p_mat=scf.P_mat(Coef,N)\n",
    "\n",
    "\n",
    "    \n",
    "    scf.print_scf_data(OrbE, s_mat, h_core_mat, Coef, p_mat, True)\n",
    "    F=h_core_mat\n",
    "    #total energy calculation\n",
    "    E=scf.E_total(p_mat,h_core_mat, F) \n",
    "    delta_E=1\n",
    "    oldE= E\n",
    "    print('--------------------------------------------------------------------------------------------------------------------------------------------------------------------')\n",
    "    stop=time.time()\n",
    "    scf.print_total_E(E, start, stop, delta_E, False)\n",
    "\n",
    "    print('------------------------------------------------------------Evaluation of Two Electron Integrals (takes time)-------------------------------------------------------')\n",
    "    #the two electron repulsion 4D array\n",
    "    r_mat_4D=scf.R_mat_4D(basis)\n",
    "\n",
    "\n",
    "    ITER=0\n",
    "    Wavefunctions=[]\n",
    "    Densities=[]\n",
    "    OrbitalEnergies=[]\n",
    "    while ((delta_E>E_convergence) and (ITER<MAXITER)):\n",
    "        print('-------------------------------------------------------------------------SCF ITERATION {}------------------------------------------------------------------------'.format(ITER+1))\n",
    "        N=Z-charge\n",
    "        start=time.time()\n",
    "    \n",
    "        #g matrix\n",
    "        g_mat=scf.G_mat(p_mat, r_mat_4D)\n",
    "\n",
    "        #fock matrix\n",
    "        F=scf.F_mat(h_core_mat, g_mat)\n",
    "        \n",
    "        #secular equation\n",
    "        OrbE, Coef= scf.sec_eqn(F,s_mat)\n",
    "\n",
    "        #density matrix\n",
    "        p_mat=scf.P_mat(Coef,N)\n",
    "\n",
    "        #total energy calculation\n",
    "        E=scf.E_total(p_mat,h_core_mat, F)\n",
    "        delta_E=np.abs(E-oldE)\n",
    "        oldE= E\n",
    "        stop=time.time()\n",
    "        scf.print_total_E(E, start, stop, delta_E, False)\n",
    "\n",
    "        #storing wavefunctions for each iteration\n",
    "        orbwfn=[]\n",
    "        density=[]\n",
    "        orbe=[]\n",
    "        for i in range(Coef.shape[0]):\n",
    "            psi=0\n",
    "            for j, f in enumerate(basis):\n",
    "                psi += Coef[j][i]*basis[j]\n",
    "                psi_sq=psi*psi*4*np.pi*r*r\n",
    "            orbwfn.append(psi)\n",
    "            density.append(psi_sq)\n",
    "            orbe.append(OrbE[i])\n",
    "        g_es=tuple(orbwfn)\n",
    "        d_es=tuple(density)\n",
    "        e_es=tuple(orbe)\n",
    "        Wavefunctions.append(g_es)\n",
    "        Densities.append(d_es)\n",
    "        OrbitalEnergies.append(e_es)\n",
    "        ITER+=1\n",
    "\n",
    "    return E, Coef, OrbE, Wavefunctions, OrbitalEnergies, Densities"
   ]
  },
  {
   "attachments": {},
   "cell_type": "markdown",
   "metadata": {},
   "source": [
    "***RHF SCF for Helium Atom*** "
   ]
  },
  {
   "cell_type": "code",
   "execution_count": 4,
   "metadata": {},
   "outputs": [],
   "source": [
    "def element1():\n",
    "    #Helium Atom   He  1s2 \n",
    "    Z=2\n",
    "    charge=0\n",
    "    start=time.time()\n",
    "    reference=-2.8616726\n",
    "\n",
    "    STO1=scf.STO(zeta=1.45363, n=1)      #--- 1ST BASIS FUNCTION\n",
    "    STO2=scf.STO(zeta=2.91093, n=1)      #--- 2ND BASIS FUNCTION\n",
    "\n",
    "    basis=[STO1, STO2]\n",
    "\n",
    "    calculated, Coef, OrbE, Wavefunctions, OrbitalEnergies, Densities = scf_hf_calc(basis, Z, charge)\n",
    "    \n",
    "    stop=time.time()\n",
    "    print('Total Elapsed Time: {:.2f} s'.format(stop-start))\n",
    "\n",
    "    return calculated, Coef, OrbE, Wavefunctions, OrbitalEnergies, Densities"
   ]
  },
  {
   "attachments": {},
   "cell_type": "markdown",
   "metadata": {},
   "source": [
    "***RHF SCF for Berrylium Atom***"
   ]
  },
  {
   "cell_type": "code",
   "execution_count": 5,
   "metadata": {},
   "outputs": [],
   "source": [
    "def element2():\n",
    "    #Berrylium Atom  Be 1s22s2\n",
    "    Z=4\n",
    "    charge=0\n",
    "    start=time.time()\n",
    "    reference=-14.572369\n",
    "\n",
    "    STO1=scf.STO(zeta=5.59108, n=1)\n",
    "    STO2=scf.STO(zeta=3.35538, n=1)\n",
    "    STO3=scf.STO(zeta=1.01122, n=2)\n",
    "    STO4=scf.STO(zeta=0.61000, n=2)\n",
    "\n",
    "    basis=[STO1, STO2, STO3, STO4]\n",
    "\n",
    "    calculated, Coef, OrbE, Wavefunctions, OrbitalEnergies, Densities = scf_hf_calc(basis, Z, charge)\n",
    "    \n",
    "    stop=time.time()\n",
    "    print('Total Elapsed Time: {:.2f} s'.format(stop-start))\n",
    "\n",
    "    return calculated, Coef, OrbE, Wavefunctions, OrbitalEnergies, Densities"
   ]
  },
  {
   "cell_type": "markdown",
   "metadata": {},
   "source": [
    "***Isoelectronic species for closed shell atoms***"
   ]
  },
  {
   "cell_type": "markdown",
   "metadata": {},
   "source": [
    "***RHF SCF for $Be^{2+}$ ion***"
   ]
  },
  {
   "cell_type": "code",
   "execution_count": 6,
   "metadata": {},
   "outputs": [],
   "source": [
    "def ion1():\n",
    "    #Berrylium Atom  Be 1s22s2\n",
    "    Z=4\n",
    "    charge=2\n",
    "    start=time.time()\n",
    "    reference=-13.6112970\n",
    "\n",
    "    STO1=scf.STO(zeta=3.43071, n=1)\n",
    "    STO2=scf.STO(zeta=5.63150, n=1)\n",
    "    STO3=scf.STO(zeta=7.35143 , n=1)\n",
    "\n",
    "    basis=[STO1, STO2, STO3]\n",
    "\n",
    "\n",
    "    calculated, Coef, OrbE, Wavefunctions, OrbitalEnergies, Densities = scf_hf_calc(basis, Z, charge)\n",
    "    \n",
    "    stop=time.time()\n",
    "    print('Total Elapsed Time: {:.2f} s'.format(stop-start))\n",
    "\n",
    "    return calculated, Coef, OrbE, Wavefunctions, OrbitalEnergies, Densities"
   ]
  },
  {
   "cell_type": "markdown",
   "metadata": {},
   "source": [
    "***Ionisation Energy $Be^{2+}$***"
   ]
  },
  {
   "cell_type": "code",
   "execution_count": 7,
   "metadata": {},
   "outputs": [
    {
     "ename": "NameError",
     "evalue": "name 'calculated2' is not defined",
     "output_type": "error",
     "traceback": [
      "\u001b[1;31m---------------------------------------------------------------------------\u001b[0m",
      "\u001b[1;31mNameError\u001b[0m                                 Traceback (most recent call last)",
      "\u001b[1;32mc:\\Users\\rajya\\OneDrive\\Documents\\Research Projects\\Code\\comp.ipynb Cell 15\u001b[0m in \u001b[0;36m<cell line: 1>\u001b[1;34m()\u001b[0m\n\u001b[1;32m----> <a href='vscode-notebook-cell:/c%3A/Users/rajya/OneDrive/Documents/Research%20Projects/Code/comp.ipynb#X23sZmlsZQ%3D%3D?line=0'>1</a>\u001b[0m ie \u001b[39m=\u001b[39m scf\u001b[39m.\u001b[39mionisation(calculated2,calculated_i)\n",
      "\u001b[1;31mNameError\u001b[0m: name 'calculated2' is not defined"
     ]
    }
   ],
   "source": [
    "ie = scf.ionisation(calculated2,calculated_i)"
   ]
  }
 ],
 "metadata": {
  "kernelspec": {
   "display_name": "base",
   "language": "python",
   "name": "python3"
  },
  "language_info": {
   "codemirror_mode": {
    "name": "ipython",
    "version": 3
   },
   "file_extension": ".py",
   "mimetype": "text/x-python",
   "name": "python",
   "nbconvert_exporter": "python",
   "pygments_lexer": "ipython3",
   "version": "3.10.5"
  },
  "orig_nbformat": 4
 },
 "nbformat": 4,
 "nbformat_minor": 2
}
