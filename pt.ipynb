{
 "cells": [
  {
   "cell_type": "markdown",
   "metadata": {},
   "source": [
    "**Perturbation Theory for Confined System**"
   ]
  },
  {
   "cell_type": "markdown",
   "metadata": {},
   "source": [
    "Effect of confinement on the orbital energies of closed shell atom will be demonstrated using first order perturbation theory, where, the confinement potential can be taken as a pertubation onto unpertubed fock operator, to give us the perturbed confined hamiltonian as follows:\n",
    "\n",
    "$\\hat{H} = \\hat{f} + \\hat{H'}$\n",
    "\n",
    "the eigenvalues and eigenvectors of this total hamiltonian of the confined sytem (perturbed system) can be related to the corrosponding eigenvalues and eigenvectors of the unpertubed system $\\hat{f}$ via a perturbation parameter $\\lambda$, so finally, the total hamiltonian can be written as, \n",
    "\n",
    "$\\hat{H} = \\hat{f} + \\lambda \\hat{H'}$\n",
    "\n",
    "where, \n",
    "\n",
    "$\\hat{H}$ : Perturbed Hamiltonian\n",
    "\n",
    "$\\hat{f}$ : Unpertubed Hamiltonian\n",
    "\n",
    "$\\lambda$ : Extent of perturbation\n",
    "\n",
    "$\\hat{H'}$ : Perturbation\n",
    "\n",
    "using the derivations of perturbation theory, the first order correction in energy is given by, \n",
    "\n",
    "$E_{n}^{(1)}= \\int_{-\\infty}^{\\infty} \\phi_{n}^{(0)*} (r) \\hat{H'}\\phi_{n}^{(0)} (r) d\\mathcal{T}$\n",
    "\n",
    "where, R is the radius of confinement such that, \n",
    "\n",
    "$\\phi_{n}^{0}(r) \\rightarrow 0 , as  r \\rightarrow R $\n",
    "\n",
    "similarly, the first order correction in wavefucntion is given by, \n",
    "\n",
    "$\\phi_{n}^{(1)} = \\sum_{m \\neq n}\\frac{\\int_{-\\infty}^{\\infty}\\phi_{m}^{(0)*}\\hat{H'}\\phi_{n}^{(0)}d\\mathcal{T}}{E_{n}^{(0)}-E_{m}^{(0)}}\\phi_{m}^{(0)}$, \n",
    "\n",
    "and hence the total energy and resultant wavefucntion upto first order correction will be given by,\n",
    "\n",
    ".........................................................................................\n",
    "\n",
    " $E_{n}=E_{n}^{(0)} + \\int_{0}^{+oo} \\phi_{n}^{(0)*}\\hat{H'}\\phi_{n}^{(0)} d\\mathcal{T}$ \n",
    "\n",
    ".........................................................................................\n",
    "\n",
    "and, \n",
    "\n",
    ".........................................................................................................................................................\n",
    "\n",
    "$\\phi_{n} = \\phi_{n}^{(0)}  + \\sum_{m \\neq n}\\frac{\\int_{0}^{+oo}\\phi_{m}^{(0)*}\\hat{H'}\\phi_{n}^{(0)}d\\mathcal{T}}{E_{n}^{(0)}-E_{m}^{(0)}}\\phi_{m}^{(0)}$\n",
    "\n",
    ".........................................................................................................................................................\n",
    "\n",
    "for ground state of the confined system, the above eqautions will be, \n",
    "\n",
    "$E_{0}=E_{0}^{(0)} + \\int_{0}^{+oo} \\phi_{0}^{(0)*}\\hat{H'}\\phi_{0}^{(0)} d\\mathcal{T}$\n",
    "\n",
    "and, \n",
    "\n",
    "$\\phi_{0} = \\phi_{0}^{(0)}  + \\sum_{m \\neq 0}\\frac{\\int_{0}^{+oo}\\phi_{m}^{(0)*}\\hat{H'}\\phi_{0}^{(0)}d\\mathcal{T}}{E_{0}^{(0)}-E_{m}^{(0)}}\\phi_{m}^{(0)}$\n",
    "\n",
    "In problem concerned, the perturbation $\\hat{H'}$ is nothing but, the fullerene potential $\\hat{V_{C_{60}}}(r)$\n"
   ]
  },
  {
   "cell_type": "markdown",
   "metadata": {},
   "source": [
    "***Importing Libraries***"
   ]
  },
  {
   "cell_type": "code",
   "execution_count": 1,
   "metadata": {},
   "outputs": [],
   "source": [
    "import comp\n",
    "import scipy.linalg\n",
    "import sympy as sp\n",
    "import numpy as np\n",
    "import matplotlib.pyplot as plt\n",
    "from sympy import oo"
   ]
  },
  {
   "cell_type": "markdown",
   "metadata": {},
   "source": [
    "***Defining Variables***"
   ]
  },
  {
   "cell_type": "code",
   "execution_count": 2,
   "metadata": {},
   "outputs": [],
   "source": [
    "r,r1,r2,zeta=sp.symbols(\"r,r1,r2,zeta\")\n",
    "n=sp.symbols(\"n\", integer=True)"
   ]
  },
  {
   "cell_type": "markdown",
   "metadata": {},
   "source": [
    "***First Order Energy correction of orbital energies due to Speherical Square Well Potential***\n",
    "\n",
    "Spherical square well potential is given by,\n",
    "\n",
    "........................\n",
    "\n",
    "for, $r\\leq r_{1}$\n",
    "\n",
    "........................\n",
    "\n",
    "U(r)= 0\n",
    "\n",
    "........................\n",
    "\n",
    "for, $r_{1}< r <r_{2}$\n",
    "\n",
    "........................\n",
    "\n",
    "U(r)= 6eV = 0.22 au \n",
    "\n",
    "........................\n",
    "\n",
    "and, $r\\geq r_{2}$\n",
    "\n",
    "........................\n",
    "\n",
    "U(r) = 0\n",
    "\n",
    "where, \n",
    "\n",
    "$r_{1} = 5.12$ au\n",
    "\n",
    "$r_{2} = 8.12$ au\n",
    "\n",
    "reference :-https://iopscience.iop.org/article/10.1088/0953-4075/43/11/115102 "
   ]
  },
  {
   "cell_type": "code",
   "execution_count": 41,
   "metadata": {},
   "outputs": [],
   "source": [
    "def E_ssw(n, OrbE, Wavefucntions):\n",
    "    \n",
    "    r1=5.12\n",
    "    r2=8.12\n",
    "    \n",
    "    e= OrbE[n] - sp.integrate( Wavefucntions[-1][n]*0.22*Wavefucntions[-1][n]*4*sp.pi*r*r, (r, r1, r2))\n",
    "    \n",
    "    info1=print('E_NC({})={:.7f}'.format(n,OrbE[n]))\n",
    "    info2=print('E_C({})={:.7f}'.format(n, e))\n",
    "    difference =print('\\u0394 E= {:.7f}'.format(e-OrbE[n]))\n",
    "    \n",
    "    return info1, info2, difference"
   ]
  },
  {
   "cell_type": "markdown",
   "metadata": {},
   "source": [
    "***First Order Energy correction of orbital energies due to approximated Fullerene Potential***\n",
    "\n",
    "Approximated Fullerene Potential is, \n",
    "\n",
    ".......................................\n",
    "\n",
    "for, $r_{c} \\leq r \\leq r_{c} + \\delta$\n",
    "\n",
    ".......................................\n",
    "\n",
    "$\\hat{V}_{C_{60}}(r) = -U_{0}   $\n",
    "                       \n",
    "..........\n",
    "\n",
    "otherwise\n",
    "\n",
    "..........\n",
    "\n",
    "$-\\frac{1}{r}    otherwise $\n",
    "\n",
    "where, \n",
    "\n",
    "$r_{c}=5.75 $ au\n",
    "\n",
    "$\\delta = 1.89 $ au\n",
    "\n",
    "$U_{0} = 8.22eV = 0.3021 $ au"
   ]
  },
  {
   "cell_type": "code",
   "execution_count": 42,
   "metadata": {},
   "outputs": [],
   "source": [
    "def E_f1(n, OrbE, Wavefucntions, delta):\n",
    "    r_c=5.75\n",
    "\n",
    "    e1= - sp.integrate(Wavefucntions[-1][n]*Wavefucntions[-1][n]*4*sp.pi*r, (r, 0, r_c))\n",
    "    e2= -sp.integrate(Wavefucntions[-1][n]*0.3021*Wavefucntions[-1][n]*4*sp.pi*r*r, (r, r_c, r_c + delta))\n",
    "    e3= - sp.integrate(Wavefucntions[-1][n]*Wavefucntions[-1][n]*4*sp.pi*r, (r, r_c + delta, +oo))\n",
    "    e = OrbE[n] + e1+ e2+ e3\n",
    "    \n",
    "    info1=print('E_NC({})={:.7f}'.format(n,OrbE[n]))\n",
    "    info2=print('E_C({})={:.7f}'.format(n, e))\n",
    "    difference =print('\\u0394 E= {:.7f}'.format(e-OrbE[n]))\n",
    "    \n",
    "    return info1, info2, difference"
   ]
  },
  {
   "cell_type": "markdown",
   "metadata": {},
   "source": [
    "***First Order Energy correction of orbital energies due to approximated Fullerene Potential***\n",
    "\n",
    "for $0\\leq r \\leq r_{1}$\n",
    "\n",
    "V(r) = 2.82\n",
    "\n",
    "for $r_{1}\\leq r \\leq r_{2}$\n",
    "\n",
    "V(r)= 0\n",
    "\n",
    "for $r_{2}\\leq r \\leq R$\n",
    "\n",
    "V(r) = 0.56\n",
    "\n",
    "where, \n",
    "\n",
    "$r_{1}$ = 4.2\n",
    "\n",
    "$r_{2}$ = 9.2\n",
    "\n",
    "$R$ = 27.6\n",
    "\n",
    "reference:- https://link.springer.com/article/10.1134/S0036023619010212"
   ]
  },
  {
   "cell_type": "code",
   "execution_count": 1,
   "metadata": {},
   "outputs": [],
   "source": [
    "def E_f2(n, OrbE, Wavefucntions):\n",
    "\n",
    "    e1=  sp.integrate(Wavefucntions[-1][n]*Wavefucntions[-1][n]*2.82*4*sp.pi*r**2, (r, 0, 4.2))\n",
    "    e2= sp.integrate(Wavefucntions[-1][n]*0*Wavefucntions[-1][n]*4*sp.pi*r*r, (r, 4.2, 9.2))\n",
    "    e3=  sp.integrate(Wavefucntions[-1][n]*0.56*Wavefucntions[-1][n]*4*sp.pi*r**2, (r, 9.2, 27.6))\n",
    "    e = OrbE[n] + e1+ e2+ e3\n",
    "    \n",
    "    info1=print('E_NC({})={:.7f}'.format(n,OrbE[n]))\n",
    "    info2=print('E_C({})={:.7f}'.format(n, e))\n",
    "    difference =print('\\u0394 E= {:.7f}'.format(e-OrbE[n]))\n",
    "    \n",
    "    return info1, info2, difference"
   ]
  },
  {
   "cell_type": "markdown",
   "metadata": {},
   "source": [
    "***First Order Energy correction of orbital energies due to approximated Fullerene Potential***\n",
    "\n",
    "for 5.75< r < 7.64\n",
    "\n",
    "V(r) = -0.302\n",
    "\n",
    "for  r < 5.75 or r > 7.64 \n",
    "\n",
    "V(r)= 0\n",
    "\n",
    "reference:- https://ui.adsabs.harvard.edu/abs/2005CaJPh..83..919P/abstract"
   ]
  },
  {
   "cell_type": "code",
   "execution_count": 44,
   "metadata": {},
   "outputs": [],
   "source": [
    "def E_f3(n, OrbE, Wavefucntions):\n",
    "    r_c=5.75\n",
    "\n",
    "    e1= sp.integrate(Wavefucntions[-1][n]*0*Wavefucntions[-1][n]*4*sp.pi*r*r, (r, 0, 5.75))\n",
    "    e2= -sp.integrate(Wavefucntions[-1][n]*0.302*Wavefucntions[-1][n]*4*sp.pi*r**2, (r, 5.75, 7.64))\n",
    "    e3= sp.integrate(Wavefucntions[-1][n]*Wavefucntions[-1][n]*2.82*4*sp.pi*r**2, (r, 7.64, +oo))\n",
    "    e = OrbE[n] + e1+ e2+ e3\n",
    "    \n",
    "    info1=print('E_NC({})={:.7f}'.format(n,OrbE[n]))\n",
    "    info2=print('E_C({})={:.7f}'.format(n, e))\n",
    "    difference =print('\\u0394 E= {:.7f}'.format(e-OrbE[n]))\n",
    "    \n",
    "    return info1, info2, difference"
   ]
  },
  {
   "cell_type": "markdown",
   "metadata": {},
   "source": [
    "***Calling Atomic Data***"
   ]
  },
  {
   "cell_type": "code",
   "execution_count": 6,
   "metadata": {},
   "outputs": [
    {
     "name": "stdout",
     "output_type": "stream",
     "text": [
      "\n",
      "---------------------------------------------------------------Intialization of SCF Calculation-------------------------------------------------------------------\n",
      "-----------------------------------------------------------------Caclulating the Base Matrices--------------------------------------------------------------------\n",
      "Overlap Matrix S\n",
      "[[1.         0.83752358]\n",
      " [0.83752358 1.        ]]\n",
      "Core Hamiltonian Matrix H\n",
      "[[-1.85073991 -1.88346692]\n",
      " [-1.88346692 -1.58510327]]\n",
      "Orbital Coefficent Matrix Coef\n",
      "[[-0.66167683  1.70635831]\n",
      " [-0.37818627 -1.79065632]]\n",
      "Density Matrix\n",
      "[[0.87563244 0.50047418]\n",
      " [0.50047418 0.28604971]]\n",
      "Orbital Energies\n",
      "E1=-1.9796197 Hartree\n",
      "E2=1.0385938 Hartree\n",
      "--------------------------------------------------------------------------------------------------------------------------------------------------------------------\n",
      "E_0= -3.9592393540595534\n",
      "Delta E=1.0000000\n",
      "time=0.26s\n",
      "------------------------------------------------------------Evaluation of Two Electron Integrals (takes time)-------------------------------------------------------\n",
      "time taken: 8.05s\n",
      "-------------------------------------------------------------------------SCF ITERATION 1------------------------------------------------------------------------\n",
      "E_0= -2.7845718692620727\n",
      "Delta E=1.1746675\n",
      "time=0.00s\n",
      "-------------------------------------------------------------------------SCF ITERATION 2------------------------------------------------------------------------\n",
      "E_0= -2.858598372056246\n",
      "Delta E=0.0740265\n",
      "time=0.00s\n",
      "-------------------------------------------------------------------------SCF ITERATION 3------------------------------------------------------------------------\n",
      "E_0= -2.86152276061918\n",
      "Delta E=0.0029244\n",
      "time=0.00s\n",
      "-------------------------------------------------------------------------SCF ITERATION 4------------------------------------------------------------------------\n",
      "E_0= -2.861665225879356\n",
      "Delta E=0.0001425\n",
      "time=0.00s\n",
      "-------------------------------------------------------------------------SCF ITERATION 5------------------------------------------------------------------------\n",
      "E_0= -2.861672234893337\n",
      "Delta E=0.0000070\n",
      "time=0.00s\n",
      "-------------------------------------------------------------------------SCF ITERATION 6------------------------------------------------------------------------\n",
      "E_0= -2.8616725798900498\n",
      "Delta E=0.0000003\n",
      "time=0.00s\n",
      "-------------------------------------------------------------------------SCF ITERATION 7------------------------------------------------------------------------\n",
      "E_0= -2.8616725968718337\n",
      "Delta E=0.0000000\n",
      "time=0.00s\n",
      "Total Elapsed Time: 8.74 s\n"
     ]
    }
   ],
   "source": [
    "calculated1, Coef1, OrbE1, Wavefunctions1, OrbitalEnergies1, Densities1 = comp.element1()"
   ]
  },
  {
   "cell_type": "code",
   "execution_count": 7,
   "metadata": {},
   "outputs": [
    {
     "name": "stdout",
     "output_type": "stream",
     "text": [
      "\n",
      "---------------------------------------------------------------Intialization of SCF Calculation-------------------------------------------------------------------\n",
      "-----------------------------------------------------------------Caclulating the Base Matrices--------------------------------------------------------------------\n",
      "Overlap Matrix S\n",
      "[[1.         0.90780473 0.09913506 0.03600389]\n",
      " [0.90780473 1.         0.24088162 0.10010333]\n",
      " [0.09913506 0.24088162 1.         0.85384478]\n",
      " [0.03600389 0.10010333 0.85384478 1.        ]]\n",
      "Core Hamiltonian Matrix H\n",
      "[[-6.73423222 -7.72797915 -1.2023588  -0.44433419]\n",
      " [-7.72797915 -7.79223253 -1.58200291 -0.6488039 ]\n",
      " [-1.2023588  -1.58200291 -1.85201235 -1.30794285]\n",
      " [-0.44433419 -0.6488039  -1.30794285 -1.15798333]]\n",
      "Orbital Coefficent Matrix Coef\n",
      "[[-0.27496359  0.12692838  0.04836581 -2.55587145]\n",
      " [-0.75137793  0.11341183  0.04651207  2.57678463]\n",
      " [ 0.05166651 -1.54246714 -1.22132795 -0.87869877]\n",
      " [-0.03145212  0.68332305  1.81939035  0.57627982]]\n",
      "Density Matrix\n",
      "[[ 0.18343158  0.44199351 -0.41997852  0.19076255]\n",
      " [ 0.44199351  1.15486206 -0.42751021  0.2022587 ]\n",
      " [-0.41997852 -0.42751021  4.76374858 -2.11125674]\n",
      " [ 0.19076255  0.2022587  -2.11125674  0.93583926]]\n",
      "Orbital Energies\n",
      "E1=-7.9848150 Hartree\n",
      "E2=-1.7744158 Hartree\n",
      "E3=-0.7165909 Hartree\n",
      "E4=6.7171377 Hartree\n",
      "--------------------------------------------------------------------------------------------------------------------------------------------------------------------\n",
      "E_0= -19.518461550930724\n",
      "Delta E=1.0000000\n",
      "time=1.95s\n",
      "------------------------------------------------------------Evaluation of Two Electron Integrals (takes time)-------------------------------------------------------\n",
      "time taken: 80.99s\n",
      "-------------------------------------------------------------------------SCF ITERATION 1------------------------------------------------------------------------\n",
      "E_0= -14.287436613896709\n",
      "Delta E=5.2310249\n",
      "time=0.00s\n",
      "-------------------------------------------------------------------------SCF ITERATION 2------------------------------------------------------------------------\n",
      "E_0= -14.504251405544197\n",
      "Delta E=0.2168148\n",
      "time=0.00s\n",
      "-------------------------------------------------------------------------SCF ITERATION 3------------------------------------------------------------------------\n",
      "E_0= -14.551051921148105\n",
      "Delta E=0.0468005\n",
      "time=0.00s\n",
      "-------------------------------------------------------------------------SCF ITERATION 4------------------------------------------------------------------------\n",
      "E_0= -14.566159312179556\n",
      "Delta E=0.0151074\n",
      "time=0.00s\n",
      "-------------------------------------------------------------------------SCF ITERATION 5------------------------------------------------------------------------\n",
      "E_0= -14.570605641537204\n",
      "Delta E=0.0044463\n",
      "time=0.00s\n",
      "-------------------------------------------------------------------------SCF ITERATION 6------------------------------------------------------------------------\n",
      "E_0= -14.571871928922619\n",
      "Delta E=0.0012663\n",
      "time=0.00s\n",
      "-------------------------------------------------------------------------SCF ITERATION 7------------------------------------------------------------------------\n",
      "E_0= -14.572229145767443\n",
      "Delta E=0.0003572\n",
      "time=0.00s\n",
      "-------------------------------------------------------------------------SCF ITERATION 8------------------------------------------------------------------------\n",
      "E_0= -14.572329646364462\n",
      "Delta E=0.0001005\n",
      "time=0.00s\n",
      "-------------------------------------------------------------------------SCF ITERATION 9------------------------------------------------------------------------\n",
      "E_0= -14.572357900323238\n",
      "Delta E=0.0000283\n",
      "time=0.01s\n",
      "-------------------------------------------------------------------------SCF ITERATION 10------------------------------------------------------------------------\n",
      "E_0= -14.57236584175045\n",
      "Delta E=0.0000079\n",
      "time=0.00s\n",
      "-------------------------------------------------------------------------SCF ITERATION 11------------------------------------------------------------------------\n",
      "E_0= -14.572368073740053\n",
      "Delta E=0.0000022\n",
      "time=0.00s\n",
      "-------------------------------------------------------------------------SCF ITERATION 12------------------------------------------------------------------------\n",
      "E_0= -14.57236870104479\n",
      "Delta E=0.0000006\n",
      "time=0.00s\n",
      "-------------------------------------------------------------------------SCF ITERATION 13------------------------------------------------------------------------\n",
      "E_0= -14.572368877349115\n",
      "Delta E=0.0000002\n",
      "time=0.00s\n",
      "-------------------------------------------------------------------------SCF ITERATION 14------------------------------------------------------------------------\n",
      "E_0= -14.572368926899465\n",
      "Delta E=0.0000000\n",
      "time=0.00s\n",
      "Total Elapsed Time: 83.27 s\n"
     ]
    }
   ],
   "source": [
    "calculated2, Coef2, OrbE2, Wavefunctions2,OrbitalEnergies2, Densities2 = comp.element2()"
   ]
  },
  {
   "cell_type": "code",
   "execution_count": 8,
   "metadata": {},
   "outputs": [
    {
     "name": "stdout",
     "output_type": "stream",
     "text": [
      "\n",
      "---------------------------------------------------------------Intialization of SCF Calculation-------------------------------------------------------------------\n",
      "-----------------------------------------------------------------Caclulating the Base Matrices--------------------------------------------------------------------\n",
      "Overlap Matrix S\n",
      "[[1.         0.91285073 0.80836749]\n",
      " [0.91285073 1.         0.9737909 ]\n",
      " [0.80836749 0.9737909  1.        ]]\n",
      "Core Hamiltonian Matrix H\n",
      "[[-7.83795445 -7.72673217 -7.23809647]\n",
      " [-7.72673217 -6.66910387 -5.12805201]\n",
      " [-7.23809647 -5.12805201 -2.38395848]]\n",
      "Orbital Coefficent Matrix Coef\n",
      "[[  0.62854634  -3.64869682   3.24524536]\n",
      " [  0.55388456   6.49598562 -10.94870937]\n",
      " [ -0.17584556  -2.97528845   8.32038814]]\n",
      "Density Matrix\n",
      "[[ 0.79014101  0.69628423 -0.22105416]\n",
      " [ 0.69628423  0.61357622 -0.19479628]\n",
      " [-0.22105416 -0.19479628  0.06184332]]\n",
      "Orbital Energies\n",
      "E1=-7.9973273 Hartree\n",
      "E2=0.4759422 Hartree\n",
      "E3=45.4657987 Hartree\n",
      "--------------------------------------------------------------------------------------------------------------------------------------------------------------------\n",
      "E_0= -15.994654632874909\n",
      "Delta E=1.0000000\n",
      "time=0.47s\n",
      "------------------------------------------------------------Evaluation of Two Electron Integrals (takes time)-------------------------------------------------------\n",
      "time taken: 18.17s\n",
      "-------------------------------------------------------------------------SCF ITERATION 1------------------------------------------------------------------------\n",
      "E_0= -13.50526893522318\n",
      "Delta E=2.4893857\n",
      "time=0.00s\n",
      "-------------------------------------------------------------------------SCF ITERATION 2------------------------------------------------------------------------\n",
      "E_0= -13.606386182334083\n",
      "Delta E=0.1011172\n",
      "time=0.00s\n",
      "-------------------------------------------------------------------------SCF ITERATION 3------------------------------------------------------------------------\n",
      "E_0= -13.611048872897198\n",
      "Delta E=0.0046627\n",
      "time=0.00s\n",
      "-------------------------------------------------------------------------SCF ITERATION 4------------------------------------------------------------------------\n",
      "E_0= -13.611283847613478\n",
      "Delta E=0.0002350\n",
      "time=0.00s\n",
      "-------------------------------------------------------------------------SCF ITERATION 5------------------------------------------------------------------------\n",
      "E_0= -13.611296187889131\n",
      "Delta E=0.0000123\n",
      "time=0.00s\n",
      "-------------------------------------------------------------------------SCF ITERATION 6------------------------------------------------------------------------\n",
      "E_0= -13.611296848906921\n",
      "Delta E=0.0000007\n",
      "time=0.00s\n",
      "-------------------------------------------------------------------------SCF ITERATION 7------------------------------------------------------------------------\n",
      "E_0= -13.611296884629718\n",
      "Delta E=0.0000000\n",
      "time=0.00s\n",
      "Total Elapsed Time: 18.76 s\n"
     ]
    }
   ],
   "source": [
    "calculated_i, Coef_i, OrbE_i, Wavefunctions_i,OrbitalEnergies_i, Densities_i= comp.ion1()"
   ]
  },
  {
   "cell_type": "markdown",
   "metadata": {},
   "source": [
    "**Change in Orbital Energies of Helium Atom due to several approximated fullerene confinements**"
   ]
  },
  {
   "cell_type": "markdown",
   "metadata": {},
   "source": [
    "***Potential 1***"
   ]
  },
  {
   "cell_type": "code",
   "execution_count": 45,
   "metadata": {},
   "outputs": [
    {
     "name": "stdout",
     "output_type": "stream",
     "text": [
      "He - 1s2\n",
      "***********\n",
      "***********\n",
      "E_NC(0)=-0.9179354\n",
      "E_C(0)=-0.9179422\n",
      "Δ E= -0.0000068\n",
      "**************************\n",
      "E_NC(1)=2.8209572\n",
      "E_C(1)=2.8209320\n",
      "Δ E= -0.0000252\n",
      "**************************\n"
     ]
    }
   ],
   "source": [
    "print('He - 1s2')\n",
    "print('***********')\n",
    "print('***********')\n",
    "for n in range(len(OrbE1)):   \n",
    "    E_ssw(n, OrbE1, Wavefunctions1)\n",
    "    print('**************************')"
   ]
  },
  {
   "cell_type": "markdown",
   "metadata": {},
   "source": [
    "***Potential 2***"
   ]
  },
  {
   "cell_type": "code",
   "execution_count": 46,
   "metadata": {},
   "outputs": [
    {
     "name": "stdout",
     "output_type": "stream",
     "text": [
      "He - 1s2\n",
      "***********\n",
      "***********\n",
      "E_NC(0)=-0.9179354\n",
      "E_C(0)=-1.9528811\n",
      "Δ E= -1.0349457\n",
      "**************************\n",
      "E_NC(1)=2.8209572\n",
      "E_C(1)=-1.0129983\n",
      "Δ E= -3.8339555\n",
      "**************************\n"
     ]
    }
   ],
   "source": [
    "print('He - 1s2')\n",
    "print('***********')\n",
    "print('***********')\n",
    "for n in range(len(OrbE1)):   \n",
    "    E_f1(n, OrbE1, Wavefunctions1, 1.89)\n",
    "    print('**************************')"
   ]
  },
  {
   "cell_type": "markdown",
   "metadata": {},
   "source": [
    "***Potential 3***"
   ]
  },
  {
   "cell_type": "code",
   "execution_count": 47,
   "metadata": {},
   "outputs": [
    {
     "name": "stdout",
     "output_type": "stream",
     "text": [
      "He - 1s2\n",
      "***********\n",
      "***********\n",
      "E_NC(0)=-0.9179354\n",
      "E_C(0)=1.0889504\n",
      "Δ E= 2.0068858\n",
      "**************************\n",
      "E_NC(1)=2.8209572\n",
      "E_C(1)=10.2554643\n",
      "Δ E= 7.4345071\n",
      "**************************\n"
     ]
    }
   ],
   "source": [
    "print('He - 1s2')\n",
    "print('***********')\n",
    "print('***********')\n",
    "for n in range(len(OrbE1)):   \n",
    "    E_f2(n, OrbE1, Wavefunctions1)\n",
    "    print('**************************')"
   ]
  },
  {
   "cell_type": "markdown",
   "metadata": {},
   "source": [
    "***Potential 4***"
   ]
  },
  {
   "cell_type": "code",
   "execution_count": 48,
   "metadata": {},
   "outputs": [
    {
     "name": "stdout",
     "output_type": "stream",
     "text": [
      "He - 1s2\n",
      "***********\n",
      "***********\n",
      "E_NC(0)=-0.9179354\n",
      "E_C(0)=-0.9179371\n",
      "Δ E= -0.0000017\n",
      "**************************\n",
      "E_NC(1)=2.8209572\n",
      "E_C(1)=2.8209508\n",
      "Δ E= -0.0000064\n",
      "**************************\n"
     ]
    }
   ],
   "source": [
    "print('He - 1s2')\n",
    "print('***********')\n",
    "print('***********')\n",
    "for n in range(len(OrbE1)):   \n",
    "    E_f3(n, OrbE1, Wavefunctions1)\n",
    "    print('**************************')"
   ]
  },
  {
   "cell_type": "markdown",
   "metadata": {},
   "source": [
    "**Change in Orbital Energies of Berrylium Atom due to several approximated fullerene confinements**"
   ]
  },
  {
   "cell_type": "markdown",
   "metadata": {},
   "source": [
    "***Spherical Square Well***"
   ]
  },
  {
   "cell_type": "code",
   "execution_count": 49,
   "metadata": {},
   "outputs": [
    {
     "name": "stdout",
     "output_type": "stream",
     "text": [
      "Be - 1s2 2s2\n",
      "***********\n",
      "***********\n",
      "E_NC(0)=-4.7328298\n",
      "E_C(0)=-4.7328298\n",
      "Δ E= 0.0000000\n",
      "**************************\n",
      "E_NC(1)=-0.3092326\n",
      "E_C(1)=-0.3092326\n",
      "Δ E= 0.0000000\n",
      "**************************\n",
      "E_NC(2)=0.1448125\n",
      "E_C(2)=0.1448125\n",
      "Δ E= 0.0000000\n",
      "**************************\n",
      "E_NC(3)=11.3778938\n",
      "E_C(3)=11.3778938\n",
      "Δ E= 0.0000000\n",
      "**************************\n"
     ]
    }
   ],
   "source": [
    "print('Be - 1s2 2s2')\n",
    "print('***********')\n",
    "print('***********')\n",
    "for n in range(len(OrbE2)):   \n",
    "    E_ssw(n, OrbE2, Wavefunctions2)\n",
    "    print('**************************')"
   ]
  },
  {
   "cell_type": "markdown",
   "metadata": {},
   "source": [
    "***Potential 1***"
   ]
  },
  {
   "cell_type": "code",
   "execution_count": 50,
   "metadata": {},
   "outputs": [
    {
     "name": "stdout",
     "output_type": "stream",
     "text": [
      "Be - 1s2 2s2\n",
      "***********\n",
      "***********\n",
      "E_NC(0)=-4.7328298\n",
      "E_C(0)=-4.8671952\n",
      "Δ E= -0.1343654\n",
      "**************************\n",
      "E_NC(1)=-0.3092326\n",
      "E_C(1)=-0.3092840\n",
      "Δ E= -0.0000513\n",
      "**************************\n",
      "E_NC(2)=0.1448125\n",
      "E_C(2)=0.1355920\n",
      "Δ E= -0.0092205\n",
      "**************************\n",
      "E_NC(3)=11.3778938\n",
      "E_C(3)=-25.5279503\n",
      "Δ E= -36.9058441\n",
      "**************************\n"
     ]
    }
   ],
   "source": [
    "print('Be - 1s2 2s2')\n",
    "print('***********')\n",
    "print('***********')\n",
    "for n in range(len(OrbE2)):   \n",
    "    E_f1(n, OrbE2, Wavefunctions2, 1.89)\n",
    "    print('**************************')"
   ]
  },
  {
   "cell_type": "markdown",
   "metadata": {},
   "source": [
    "***Potential 2***"
   ]
  },
  {
   "cell_type": "code",
   "execution_count": 20,
   "metadata": {},
   "outputs": [
    {
     "name": "stdout",
     "output_type": "stream",
     "text": [
      "Be - 1s2 2s2\n",
      "***********\n",
      "***********\n",
      "E_NC(0)=-4.7328298\n",
      "E_C(0)=0.0677705\n",
      "Δ E= 4.8006003\n",
      "**************************\n",
      "E_NC(1)=-0.3092326\n",
      "E_C(1)=0.0000259\n",
      "Δ E= 0.3092585\n",
      "**************************\n",
      "E_NC(2)=0.1448125\n",
      "E_C(2)=0.0046506\n",
      "Δ E= 0.1401619\n",
      "**************************\n",
      "E_NC(3)=11.3778938\n",
      "E_C(3)=18.6143787\n",
      "Δ E= 7.2364848\n",
      "**************************\n"
     ]
    }
   ],
   "source": [
    "print('Be - 1s2 2s2')\n",
    "print('***********')\n",
    "print('***********')\n",
    "for n in range(len(OrbE2)):   \n",
    "    E_f2(n, OrbE2, Wavefunctions2)\n",
    "    print('**************************')"
   ]
  },
  {
   "cell_type": "markdown",
   "metadata": {},
   "source": [
    "***Potential 3***"
   ]
  },
  {
   "cell_type": "code",
   "execution_count": 26,
   "metadata": {},
   "outputs": [
    {
     "name": "stdout",
     "output_type": "stream",
     "text": [
      "Be - 1s2 2s2\n",
      "***********\n",
      "***********\n",
      "E_NC(0)=-4.7328298\n",
      "E_C(0)=-0.0000000\n",
      "Δ E= 4.7328298\n",
      "**************************\n",
      "E_NC(1)=-0.3092326\n",
      "E_C(1)=-0.0000000\n",
      "Δ E= 0.3092326\n",
      "**************************\n",
      "E_NC(2)=0.1448125\n",
      "E_C(2)=-0.0000000\n",
      "Δ E= 0.1448125\n",
      "**************************\n",
      "E_NC(3)=11.3778938\n",
      "E_C(3)=-0.0000000\n",
      "Δ E= 11.3778938\n",
      "**************************\n"
     ]
    }
   ],
   "source": [
    "print('Be - 1s2 2s2')\n",
    "print('***********')\n",
    "print('***********')\n",
    "for n in range(len(OrbE2)):   \n",
    "    E_f3(n, OrbE2, Wavefunctions2)\n",
    "    print('**************************')"
   ]
  },
  {
   "cell_type": "markdown",
   "metadata": {},
   "source": [
    "**Change in Orbital Energies of Berrylium Ion due to several approximated fullerene confinements**"
   ]
  },
  {
   "cell_type": "markdown",
   "metadata": {},
   "source": [
    "***Spherical Square Well***"
   ]
  },
  {
   "cell_type": "code",
   "execution_count": 51,
   "metadata": {},
   "outputs": [
    {
     "name": "stdout",
     "output_type": "stream",
     "text": [
      "Be2+ - 1s2\n",
      "***********\n",
      "***********\n",
      "E_NC(0)=-5.6671201\n",
      "E_C(0)=-5.6671201\n",
      "Δ E= -0.0000000\n",
      "**************************\n",
      "E_NC(1)=3.4762126\n",
      "E_C(1)=3.4762126\n",
      "Δ E= -0.0000000\n",
      "**************************\n",
      "E_NC(2)=50.5421735\n",
      "E_C(2)=50.5421735\n",
      "Δ E= -0.0000000\n",
      "**************************\n"
     ]
    }
   ],
   "source": [
    "print('Be2+ - 1s2')\n",
    "print('***********')\n",
    "print('***********')\n",
    "for n in range(len(OrbE_i)):   \n",
    "    E_ssw(n, OrbE_i, Wavefunctions_i)\n",
    "    print('**************************')"
   ]
  },
  {
   "cell_type": "markdown",
   "metadata": {},
   "source": [
    "***Potential 1***"
   ]
  },
  {
   "cell_type": "code",
   "execution_count": 52,
   "metadata": {},
   "outputs": [
    {
     "name": "stdout",
     "output_type": "stream",
     "text": [
      "Be2+ - 1s2\n",
      "***********\n",
      "***********\n",
      "E_NC(0)=-5.6671201\n",
      "E_C(0)=-8.4370430\n",
      "Δ E= -2.7699229\n",
      "**************************\n",
      "E_NC(1)=3.4762126\n",
      "E_C(1)=-42.2328834\n",
      "Δ E= -45.7090959\n",
      "**************************\n",
      "E_NC(2)=50.5421735\n",
      "E_C(2)=15.8618921\n",
      "Δ E= -34.6802814\n",
      "**************************\n"
     ]
    }
   ],
   "source": [
    "print('Be2+ - 1s2')\n",
    "print('***********')\n",
    "print('***********')\n",
    "for n in range(len(OrbE_i)):   \n",
    "    E_f1(n, OrbE_i, Wavefunctions_i, 1.89)\n",
    "    print('**************************')"
   ]
  },
  {
   "cell_type": "markdown",
   "metadata": {},
   "source": [
    "***Potential 2***"
   ]
  },
  {
   "cell_type": "code",
   "execution_count": 53,
   "metadata": {},
   "outputs": [
    {
     "name": "stdout",
     "output_type": "stream",
     "text": [
      "Be2+ - 1s2\n",
      "***********\n",
      "***********\n",
      "E_NC(0)=-5.6671201\n",
      "E_C(0)=-3.3902787\n",
      "Δ E= 2.2768414\n",
      "**************************\n",
      "E_NC(1)=3.4762126\n",
      "E_C(1)=41.0485082\n",
      "Δ E= 37.5722957\n",
      "**************************\n",
      "E_NC(2)=50.5421735\n",
      "E_C(2)=79.0489239\n",
      "Δ E= 28.5067504\n",
      "**************************\n"
     ]
    }
   ],
   "source": [
    "print('Be2+ - 1s2')\n",
    "print('***********')\n",
    "print('***********')\n",
    "for n in range(len(OrbE_i)):   \n",
    "    E_f2(n, OrbE_i, Wavefunctions_i)\n",
    "    print('**************************')"
   ]
  },
  {
   "cell_type": "markdown",
   "metadata": {},
   "source": [
    "***Potential 3***"
   ]
  },
  {
   "cell_type": "code",
   "execution_count": 54,
   "metadata": {},
   "outputs": [
    {
     "name": "stdout",
     "output_type": "stream",
     "text": [
      "Be2+ - 1s2\n",
      "***********\n",
      "***********\n",
      "E_NC(0)=-5.6671201\n",
      "E_C(0)=-5.6671201\n",
      "Δ E= -0.0000000\n",
      "**************************\n",
      "E_NC(1)=3.4762126\n",
      "E_C(1)=3.4762126\n",
      "Δ E= -0.0000000\n",
      "**************************\n",
      "E_NC(2)=50.5421735\n",
      "E_C(2)=50.5421735\n",
      "Δ E= -0.0000000\n",
      "**************************\n"
     ]
    }
   ],
   "source": [
    "print('Be2+ - 1s2')\n",
    "print('***********')\n",
    "print('***********')\n",
    "for n in range(len(OrbE_i)):   \n",
    "    E_f3(n, OrbE_i, Wavefunctions_i)\n",
    "    print('**************************')"
   ]
  }
 ],
 "metadata": {
  "kernelspec": {
   "display_name": "Python 3",
   "language": "python",
   "name": "python3"
  },
  "language_info": {
   "codemirror_mode": {
    "name": "ipython",
    "version": 3
   },
   "file_extension": ".py",
   "mimetype": "text/x-python",
   "name": "python",
   "nbconvert_exporter": "python",
   "pygments_lexer": "ipython3",
   "version": "3.10.5"
  },
  "orig_nbformat": 4
 },
 "nbformat": 4,
 "nbformat_minor": 2
}
