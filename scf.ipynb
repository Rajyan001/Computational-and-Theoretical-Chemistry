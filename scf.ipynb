{
 "cells": [
  {
   "cell_type": "markdown",
   "metadata": {
    "collapsed": false,
    "pycharm": {
     "name": "#%% md\n"
    }
   },
   "source": [
    "**RHF SCF Procedure for Atoms**\n",
    "\n",
    "***The Roothaan Hartree Fock Equations***"
   ]
  },
  {
   "cell_type": "markdown",
   "metadata": {
    "collapsed": false,
    "pycharm": {
     "name": "#%% md\n"
    }
   },
   "source": [
    "Time Independent Schrodinger Equation associated with an Atom will be given by,\n",
    "\n",
    "\n",
    "$[-\\sum _{i}\\frac{1}{2}\\nabla _{i}^{2} + \\sum _{i}\\frac{Z}{r_{i}} + \\sum _{i}\\sum _{j}\\frac{1}{r_{ij}}]\\Psi(r)=E\\Psi(r)$\n",
    "\n",
    "$\\hat{H} = \\hat{T_{N}} + \\hat{T_{e}} + \\hat{V_{Ne}} + \\hat{V_{NN}} + \\hat{V_{ee}}$\n",
    "\n",
    "\n",
    "\n",
    "\n",
    "\n",
    "if we notice the first two terms are one elctron term, whereas, the third term is a two electron term, if it wouldn't be their, the entire equation could have been written as N one electron schrodinger equation, where the final wavefunction would just be a product of one electron wavefucntions with appropriate noramlization constant\n",
    "$-(\\frac{1}{2}\\nabla _{i}^{2} + \\frac{Z}{r_{i}})\\psi(r)_{i}=\\epsilon_{i}\\psi(r)_{i}$\n",
    "\n",
    "$\\Psi(r) = N \\prod _{i}\\psi(r)_{i}$\n",
    "\n",
    "$E =  \\sum _{i}\\epsilon _{i}$\n",
    "\n",
    "to overvome this we can go ahead and use the Hartree Fock Approximation under which, instead of approximating or making changes in the Hamiltonian , the wavefunction is approximated to be a N-electron Slater Determinant, and then the energy eigenvalue associated with it is minimized using variational principle. \n",
    "\n",
    "Putting this N electron wslater determinant in the schrodinger equation, using  rule, and energy minimization, the schrodinger equation simplifies to the following Hartree Fock Equation,\n",
    "\n",
    "in terms of spin orbitals the Schrodinger equation associated with many electron system can be written as, \n",
    "\n",
    "$\\sum _{i}f_{i}\\chi _{i} = \\sum _{i}\\epsilon _{i}\\chi _{i}$\n",
    "\n",
    "\n",
    "this equation can be translated into following one electron equations,\n",
    "\n",
    "$f_{i}\\chi _{i} = \\epsilon _{i}\\chi _{i}$\n",
    "\n",
    "the idea is to solve this canonical hartree fock equation to get a set of spin orbitals with increasing energy, i.e, \n",
    "\n",
    "$\\chi _{1}, \\chi _{2}, \\chi _{3}, ...$\n",
    "\n",
    "with energies, \n",
    "\n",
    "$\\epsilon _{1}, \\epsilon _{2}, \\epsilon _{3}, ...$\n",
    "\n",
    "then choosing N of the lowest energy spin orbitals to construct the ground state wavefunction of the Atom or Molecule (as the case maybe).\n",
    "\n",
    "By expanding the fock operator, the above equation can be re-written as,\n",
    "\n",
    "($h(\\bar{x_{1}}) + \\sum _{b}^{N} \\int_{0}^{oo} \\frac{d\\bar{x_{2}}\\chi _{b}^{*}(\\bar{x_{2}}) \\chi _{b}(\\bar{x_{2}})}{r_{12}} - \\frac{d\\bar{x_{2}}\\chi _{b}^{*}(\\bar{x_{2}}) P_{12}\\chi _{b}(\\bar{x_{2}})}{r_{12}})  \\chi _{i}(\\bar{x_{1}}) = \\epsilon _{i}\\chi _{i}(\\bar{x_{1}})$\n",
    "\n",
    "the same equation in spatial coordinates can be expressed as, \n",
    "\n",
    "($h(\\bar{r_{1}}) + \\sum _{b}^{N/2} \\int_{0}^{oo} 2\\frac{d\\bar{r_{2}}\\Phi _{b}^{*}(\\bar{r_{2}}) \\Phi _{b}(\\bar{r_{2}})}{r_{12}} - \\frac{d\\bar{r_{2}}\\Phi _{b}^{*}(\\bar{r_{2}}) P_{12}\\Phi _{b}(\\bar{r_{2}})}{r_{12}})  \\Phi _{i}(\\bar{r_{1}}) = \\epsilon _{i}\\Phi _{i}(\\bar{r_{1}})$\n",
    "\n",
    "$h(\\bar{r_{1}})\\Phi _{i}(\\bar{r_{1}}) = \\epsilon _{i}\\Phi _{i}(\\bar{r_{1}})$\n",
    "\n",
    "Numerical solutions for this canonical equation can be tried and worked out, but Roothaan suggested an easy way to get the solutions of this equation and that is by converting it into Matrix Eigenvalue problem which can be solved by using general Matrix Algebra, this can be achieved by expanding the spatial orbitals in terms of an infinte basis set, which is not possible and hence using a finite basis set (which is generally choosed as set of Atomic Orbitals) is used to exapand the spatial orbitals, \n",
    "\n",
    "$\\Phi _{i}(\\bar{r_{1}})=\\sum_{j}^{K}C_{ji}\\phi _{j}(r_{1})$\n",
    "\n",
    "putting this in above spatial Hartree Fock Equation will give us the follwoing Roothaan Equations,\n",
    "\n",
    "$FC=SC\\epsilon$\n",
    "\n",
    "where, F is the Fock Matrix\n",
    "    \n",
    "S is the overlap matrix\n",
    "\n",
    "C is the coefficient matrix\n",
    "\n",
    "$\\epsilon$ is the energy matrix\n",
    "\n",
    "the matrix elements of Fock and overlap matrix are as follows :\n",
    "\n",
    "$F_{\\mu\\nu}$ = $\\int_{0}^{\\infty}\\phi_{mu}^{*}(r)f(r)\\phi_{nu}(r) 4\\pi r^{2}.dr$\n",
    "\n",
    "$S_{\\mu\\nu} = \\int_{0}^{\\infty}\\phi_{mu}^{*}(r)\\phi_{nu}(r) 4\\pi r^{2}.dr$\n",
    "\n",
    "putting in the expression of fock operator will give us the following expression of Fock matrix elements,\n",
    "\n",
    "$F_{\\mu \\nu} = \\int_{0}^{\\infty}\\phi_{mu}^{*}(r)( h(\\bar{x_{1}}) + \\sum _{b}^{N} \\int_{0}^{oo} \\frac{d\\bar{x_{2}}\\chi _{b}^{*}(\\bar{x_{2}}) \\chi _{b}(\\bar{x_{2}})}{r_{12}} - \\frac\n",
    "{d\\bar{x_{2}}\\chi _{b}^{*}(\\bar{x_{2}}) P_{12}\\chi _{b}(\\bar{x_{2}})}{r_{12}} )\\phi_{nu}(r) 4\\pi r^{2}.dr$\n",
    "\n",
    "the above expression can be simpliied by making the use of CHarge Density matrix,\n",
    "\n",
    "charge density of a system is defined by,\n",
    "\n",
    "$\\rho (r)=2\\sum _{a}^{N/2} \\Psi_{a}^{*}(r)\\Psi_{a}(r)$\n",
    "\n",
    "by putting the expression of wavefunction, we will get, \n",
    "\n",
    "$\\rho (r)=\\sum _{\\mu \\nu}[2\\sum_{a}^{N/2} C_{\\mu a}C_{\\nu a}*] \\phi_{\\mu}(r)\\phi_{\\nu}^{*}(r)$, \n",
    "\n",
    "where, the density matrix elements can be written as, \n",
    "\n",
    "$P_{\\mu \\nu}=2\\sum_{a}^{N/2} C_{\\mu a}C_{\\nu a}*$\n",
    "\n",
    "further,\n",
    "\n",
    "$\\int_{0}^{\\infty}\\phi_{mu}^{*}(r)h(r)\\phi_{nu}(r) 4\\pi r^{2}.dr=H_{\\mu \\nu}^{core}$\n",
    "\n",
    "then finally the Fock Matrix elements in terms of H and P matrix elements can be written as,\n",
    "\n",
    "$F_{\\mu \\nu} = H_{\\mu \\nu} + \\sum_{\\lambda \\sigma} P_{\\lambda \\sigma}(<\\mu \\nu|\\lambda \\sigma>-0.5<\\mu \\sigma|\\nu \\lambda>)$\n",
    "\n",
    "let, $P_{\\lambda \\sigma}(<\\mu \\nu|\\lambda \\sigma>-0.5<\\mu \\sigma|\\nu \\lambda>) = G_{\\mu \\nu}$\n",
    " \n",
    "so, fianlly the Fock Matrix can be written as, \n",
    "\n",
    "$F=H^{core} + G$\n",
    "\n",
    "the steps to solve the generalised eigenvalues equation include the following steps which are as follows:\n",
    "\n",
    "Neglecting the electron - electron repulsion intially, which will lead to following, \n",
    "\n",
    "$F=H^{core}$\n",
    "\n",
    "solving the below generalised eigenvalue equation, \n",
    "\n",
    "$H^{core}C=SC\\epsilon$\n",
    "\n",
    "from the coefficients, building the density matrix, which can be used to build the Fock Matrix, resulting in the earlier form of the generalised eigenvalue equation, \n",
    "\n",
    "$FC=SC\\epsilon$\n",
    "\n",
    "this equation can now be solved iteratively uptill the coefficient matrix coming as the result of solving these equations becomes equal to the one generated the density matrix used in the previous iteration,i.e., self consistently.\n",
    "\n",
    "the same is illustrated in the following steps:\n",
    "\n",
    "*Generate Basis Set (the STO basis sets).\n",
    "\n",
    "*Caculating the integrals , overlap integrals S(mu, nu), core hartree fock integrals H_core (mu,nu), two electron integrals R.\n",
    "\n",
    "*Forming the S_matrix (Overlap Matrix),  H_core_matrix(Core Hamiltonian Matrix), R_matrix (Repulsion Matrix,i.e,containing two electron integrals calculation), P_matrix (Density Matrix ), G_matrix (corrosponds to other half of the Fock Matrix), F_matrix (Fock Matrix).\n",
    "\n",
    "*Solving Secular Equations to get the eigenvalues and the corrospoding eigenvectors.\n",
    "\n",
    "*Caculating total energies.\n",
    "\n",
    "*Comapring results with assigned reference."
   ]
  },
  {
   "cell_type": "markdown",
   "metadata": {
    "collapsed": false,
    "pycharm": {
     "name": "#%% md\n"
    }
   },
   "source": [
    "***Importing Libraries***"
   ]
  },
  {
   "cell_type": "code",
   "execution_count": 8,
   "metadata": {
    "collapsed": false,
    "pycharm": {
     "name": "#%%\n"
    }
   },
   "outputs": [],
   "source": [
    "import scipy\n",
    "import scipy.linalg\n",
    "import sympy as sp\n",
    "import numpy as np\n",
    "import time\n",
    "import matplotlib.pyplot as plt\n",
    "from sympy import oo\n",
    "from sympy import diff"
   ]
  },
  {
   "cell_type": "markdown",
   "metadata": {
    "collapsed": false,
    "pycharm": {
     "name": "#%% md\n"
    }
   },
   "source": [
    "*Forming the variables for mathematical expressions using symbols function from sympy library*"
   ]
  },
  {
   "cell_type": "code",
   "execution_count": 9,
   "metadata": {
    "collapsed": false,
    "pycharm": {
     "name": "#%%\n"
    }
   },
   "outputs": [],
   "source": [
    "r,r1,r2,zeta=sp.symbols(\"r,r1,r2,zeta\")\n",
    "n=sp.symbols(\"n\", integer=True)"
   ]
  },
  {
   "cell_type": "markdown",
   "metadata": {
    "collapsed": false,
    "pycharm": {
     "name": "#%% md\n"
    }
   },
   "source": [
    "***Forming the STO basis functions***"
   ]
  },
  {
   "cell_type": "markdown",
   "metadata": {
    "collapsed": false,
    "pycharm": {
     "name": "#%% md\n"
    }
   },
   "source": [
    "\n",
    "$\\phi_{\\zeta}(r) = N r^{n-1} e^{-\\zeta r}$\n",
    "\n",
    "$N=\\sqrt{\\frac{1} {\\int_{0}^{ \\infty} 4 \\pi r^{2} [r^{n-1} e^(-\\zeta r)]^{2} dr}}$\n",
    "\n",
    "with these basis functions the ground state and excited state function of the Helium Atom will be expressed as,\n",
    "\n",
    "$\\psi_{1s}=c11\\phi_{1}(r) +c21\\phi_{2}(r)$ --- 1s orbital function \n",
    "\n",
    "$\\psi_{2s}=c12\\phi_{1}(r) +c22\\phi_{2}(r)$ ----2s orbital function \n"
   ]
  },
  {
   "cell_type": "code",
   "execution_count": 10,
   "metadata": {
    "collapsed": false,
    "pycharm": {
     "name": "#%%\n"
    }
   },
   "outputs": [],
   "source": [
    "def STO(n,zeta,r=r):\n",
    "    bf= r**(n-1)*sp.exp(-zeta*r)\n",
    "    N=sp.sqrt(1/sp.integrate(4*sp.pi*r*r*bf*bf,(r,0,+oo)))\n",
    "    return N*bf\n",
    " "
   ]
  },
  {
   "cell_type": "markdown",
   "metadata": {
    "collapsed": false,
    "pycharm": {
     "name": "#%% md\n"
    }
   },
   "source": [
    "*converting symbolic functions constructed using sympy library into numerical functions using lambdify function from sympy module and numpy module*"
   ]
  },
  {
   "cell_type": "markdown",
   "metadata": {
    "collapsed": false,
    "pycharm": {
     "name": "#%% md\n"
    }
   },
   "source": [
    "***Plotting Basis Functions***"
   ]
  },
  {
   "cell_type": "code",
   "execution_count": 11,
   "metadata": {
    "collapsed": false,
    "pycharm": {
     "name": "#%%\n"
    }
   },
   "outputs": [
    {
     "data": {
      "text/plain": [
       "<matplotlib.legend.Legend at 0x17f459487c0>"
      ]
     },
     "execution_count": 11,
     "metadata": {},
     "output_type": "execute_result"
    },
    {
     "data": {
      "image/png": "[encoded data removed]",
      "text/plain": [
       "<Figure size 432x288 with 1 Axes>"
      ]
     },
     "metadata": {
      "needs_background": "light"
     },
     "output_type": "display_data"
    }
   ],
   "source": [
    "STO1=STO(zeta=1.45363, n=1)      #--- 1ST BASIS FUNCTION\n",
    "STO2=STO(zeta=2.91093, n=1)      #--- 2ND BASIS FUNCTION\n",
    "func1=sp.lambdify((r),STO1, modules='numpy')\n",
    "func2=sp.lambdify((r),STO2, modules='numpy')\n",
    "x=np.linspace(0,10,100)\n",
    "y1=func1(x)\n",
    "y2=func2(x)\n",
    "plt.plot(x,y1,label='STO(zeta=1.45363, n=1)')\n",
    "plt.plot(x,y2,label='STO(zeta=2.91093, n=1)')\n",
    "plt.plot([], [],label=r'$\\phi_{\\zeta}(r) = N r^{n-1} e^{-\\zeta r}$', color='white')\n",
    "plt.xlabel('r')\n",
    "plt.ylabel('STO(zeta, n)')\n",
    "plt.legend()\n",
    "\n"
   ]
  },
  {
   "cell_type": "markdown",
   "metadata": {
    "collapsed": false,
    "pycharm": {
     "name": "#%% md\n"
    }
   },
   "source": [
    "***Overlap Integrals***\n",
    "\n",
    "The overlap integrals will be given by, \n",
    "\n",
    "$S_{\\mu\\nu}=\\int_{0}^{\\infty}\\phi_{mu}^{*}(r)\\phi_{nu}(r) 4\\pi r^{2}.dr$"
   ]
  },
  {
   "cell_type": "code",
   "execution_count": 12,
   "metadata": {
    "collapsed": false,
    "pycharm": {
     "name": "#%%\n"
    }
   },
   "outputs": [],
   "source": [
    "def S(f1,f2):\n",
    "    overlap=sp.integrate(f1*f2*4*sp.pi*r*r,(r,0,+oo)) \n",
    "    return overlap"
   ]
  },
  {
   "cell_type": "markdown",
   "metadata": {
    "collapsed": false,
    "pycharm": {
     "name": "#%% md\n"
    }
   },
   "source": [
    "***Core Hamiltonian Integrals***\n",
    "\n",
    "The core hamiltonian integrals will be given by, \n",
    "\n",
    "$H_{\\mu\\nu}^{core}=\\int_{0}^{\\infty}\\phi_{mu}^{*}(r)h\\phi_{nu}(r) 4\\pi r^{2}.dr$"
   ]
  },
  {
   "cell_type": "code",
   "execution_count": 13,
   "metadata": {
    "collapsed": false,
    "pycharm": {
     "name": "#%%\n"
    }
   },
   "outputs": [],
   "source": [
    "def H(f1,f2,Z):\n",
    "    kinetic=-sp.integrate(f1*0.5*(1/r**2)*diff(r**2*diff(f2,r),r)*4*sp.pi*r*r,(r,0,+oo)) #--- KINETIC ENERGY TERM \n",
    "    potential=-sp.integrate(f1*(Z/r)*f2*4*sp.pi*r*r,(r,0,+oo))  #--- POTENTIAL ENERGY TERM \n",
    "    return kinetic + potential                                  "
   ]
  },
  {
   "cell_type": "markdown",
   "metadata": {
    "collapsed": false,
    "pycharm": {
     "name": "#%% md\n"
    }
   },
   "source": [
    "***Two Electron Integrals***\n",
    "\n",
    "$<\\mu\\nu|\\lambda\\sigma>=\\int_{0}^{\\infty}\\phi_{\\mu}^{*}(r_{1})\\phi_{\\lambda}(r_{1}) 4 \\pi r_{1}^{2}[\\int_{0}^{r_{1}}\\frac{\\phi_{\\nu}^{*}(r_{2})\\phi_{\\sigma}(r_{2}) 4\\pi r_{2}^{2}dr_{2}}{r_{1}}+\\int_{r_{1}}^{\\infty}\\frac{\\phi_{\\nu}^{*}(r_{2})\\phi_{\\sigma}(r_{2}) 4\\pi r_{2}^{2}dr_{2}}{r_{2}}]dr_{1}$"
   ]
  },
  {
   "cell_type": "code",
   "execution_count": 14,
   "metadata": {
    "collapsed": false,
    "pycharm": {
     "name": "#%%\n"
    }
   },
   "outputs": [],
   "source": [
    "def R(rep_int_func):\n",
    "    f1,f2,f3,f4 = rep_int_func\n",
    "    f1=f1.subs(r,r1)\n",
    "    f2=f2.subs(r,r1)\n",
    "    f3=f3.subs(r,r2)\n",
    "    f4=f4.subs(r,r2)\n",
    "    I1=sp.integrate(f3*f4*4*sp.pi*r2*r2, (r2,0,r1))/r1\n",
    "    I2=sp.integrate(f3*f4*4*sp.pi*r2*r2*(1/r2), (r2,r1,+oo))\n",
    "    repulsion=sp.integrate(f1*f2*(I1+I2)*4*sp.pi*r1*r1, (r1,0,+oo))\n",
    "    return repulsion"
   ]
  },
  {
   "cell_type": "markdown",
   "metadata": {
    "collapsed": false,
    "pycharm": {
     "name": "#%% md\n"
    }
   },
   "source": [
    "**Defining Matrices**"
   ]
  },
  {
   "cell_type": "markdown",
   "metadata": {
    "collapsed": false,
    "pycharm": {
     "name": "#%% md\n"
    }
   },
   "source": [
    "***Overlap Matrix***"
   ]
  },
  {
   "cell_type": "code",
   "execution_count": 15,
   "metadata": {
    "collapsed": false,
    "pycharm": {
     "name": "#%%\n"
    }
   },
   "outputs": [],
   "source": [
    "def S_mat(basis):\n",
    "    num_bf= len(basis)\n",
    "    s_mat=np.zeros((num_bf,num_bf))   \n",
    "    for mu in range(num_bf):\n",
    "        for nu in range(num_bf):\n",
    "            s_mat[mu,nu]=S(basis[mu],basis[nu])\n",
    "    return s_mat"
   ]
  },
  {
   "cell_type": "markdown",
   "metadata": {
    "collapsed": false,
    "pycharm": {
     "name": "#%% md\n"
    }
   },
   "source": [
    "***Core Hamiltonian Matrix***"
   ]
  },
  {
   "cell_type": "code",
   "execution_count": 16,
   "metadata": {
    "collapsed": false,
    "pycharm": {
     "name": "#%%\n"
    }
   },
   "outputs": [],
   "source": [
    "def H_core_mat(basis,Z):\n",
    "    num_bf=len(basis)\n",
    "    h_core_mat=np.zeros((num_bf,num_bf))\n",
    "    for mu in range(num_bf):\n",
    "        for nu in range(num_bf):\n",
    "            h_core_mat[mu,nu]=H(basis[mu],basis[nu],Z)\n",
    "    return h_core_mat   "
   ]
  },
  {
   "cell_type": "markdown",
   "metadata": {
    "collapsed": false,
    "pycharm": {
     "name": "#%% md\n"
    }
   },
   "source": [
    "***Two electron Repulsion matrix***"
   ]
  },
  {
   "cell_type": "code",
   "execution_count": 17,
   "metadata": {
    "collapsed": false,
    "pycharm": {
     "name": "#%%\n"
    }
   },
   "outputs": [],
   "source": [
    "def R_mat_4D(basis):\n",
    "    num_bf=len(basis)\n",
    "    r_mat_4D = np.zeros((num_bf, num_bf, num_bf, num_bf))\n",
    "    start=time.time()\n",
    "    for mu in range(num_bf):\n",
    "        for nu in range(num_bf):\n",
    "            for lamb in range(num_bf):\n",
    "                for sigm in range(num_bf):\n",
    "                    rep_int_func=[basis[mu], basis[nu], basis[lamb], basis[sigm]]\n",
    "                    r_mat_4D[mu, nu, lamb, sigm] = R(rep_int_func)\n",
    "    stop=time.time()\n",
    "    print('time taken: {:0.1f}s'.format(stop-start))\n",
    "    return r_mat_4D"
   ]
  },
  {
   "cell_type": "markdown",
   "metadata": {
    "collapsed": false,
    "pycharm": {
     "name": "#%% md\n"
    }
   },
   "source": [
    "***Secular Equation***\n",
    "\n",
    "the generalised secular equation needed to solve is,\n",
    "\n",
    "$FC=SC\\epsilon$"
   ]
  },
  {
   "cell_type": "code",
   "execution_count": 18,
   "metadata": {
    "collapsed": false,
    "pycharm": {
     "name": "#%%\n"
    }
   },
   "outputs": [],
   "source": [
    "def sec_eqn(F, S):\n",
    "    OrbE, Coef = scipy.linalg.eigh(F,S) #---getting the eigenvalues and eigenvectors \n",
    "    return OrbE, Coef"
   ]
  },
  {
   "cell_type": "markdown",
   "metadata": {
    "collapsed": false,
    "pycharm": {
     "name": "#%% md\n"
    }
   },
   "source": [
    "***Density Matrix***\n",
    "\n",
    "The elements of the density matrix will be given by, \n",
    "\n",
    "$P_{\\mu\\nu}=2\\sum_{a}^{N/2}C_{\\mu a}C^{*}_{\\nu a}$"
   ]
  },
  {
   "cell_type": "code",
   "execution_count": 19,
   "metadata": {
    "collapsed": false,
    "pycharm": {
     "name": "#%%\n"
    }
   },
   "outputs": [],
   "source": [
    "def P_mat(Coef,N):\n",
    "    p_mat=np.zeros([Coef.shape[0], Coef.shape[0]])\n",
    "    for lamb in range(Coef.shape[0]):                           #---Note:- Density Matrix will only be evaluated using occupied orbitals, \n",
    "        for sigm in range(Coef.shape[0]):                                 \n",
    "            for a in range(int(N/2)):\n",
    "                p_mat[lamb, sigm] += 2*Coef[lamb,a]*Coef[sigm,a]\n",
    "    return p_mat\n",
    "                "
   ]
  },
  {
   "cell_type": "markdown",
   "metadata": {
    "collapsed": false,
    "pycharm": {
     "name": "#%% md\n"
    }
   },
   "source": [
    "***G Matrix***\n",
    "\n",
    "The elements of the G matrix will be given by,\n",
    "\n",
    "$G_{\\mu\\nu}=\\sum_{\\lambda\\sigma}P_{\\lambda\\sigma}[<\\mu\\nu|\\sigma\\lambda>-0.5<\\mu\\lambda|\\sigma\\nu>]$"
   ]
  },
  {
   "cell_type": "code",
   "execution_count": 20,
   "metadata": {
    "collapsed": false,
    "pycharm": {
     "name": "#%%\n"
    }
   },
   "outputs": [],
   "source": [
    "def G_mat(p_mat,r_mat_4D):    \n",
    "    num_bf=p_mat.shape[0]\n",
    "    g_mat=np.zeros((num_bf,num_bf))\n",
    "    for mu in range(num_bf):\n",
    "        for nu in range(num_bf):\n",
    "            g=0\n",
    "            for lamb in range(num_bf):\n",
    "                for sigm in range(num_bf):\n",
    "                    g += p_mat[lamb,sigm]*(r_mat_4D[mu, nu, lamb, sigm]-0.5*r_mat_4D[mu, sigm, lamb, nu])\n",
    "            g_mat[mu,nu]=g\n",
    "    return g_mat\n",
    "    "
   ]
  },
  {
   "cell_type": "markdown",
   "metadata": {
    "collapsed": false,
    "pycharm": {
     "name": "#%% md\n"
    }
   },
   "source": [
    "***Fock Matrix***\n",
    "\n",
    "Elements of the fock matrix will  be just, \n",
    "\n",
    "$F_{\\mu\\nu}=H_{\\mu\\nu}^{core}+G_{\\mu\\nu}$"
   ]
  },
  {
   "cell_type": "code",
   "execution_count": 21,
   "metadata": {
    "collapsed": false,
    "pycharm": {
     "name": "#%%\n"
    }
   },
   "outputs": [],
   "source": [
    "def F_mat(H,G):\n",
    "    F=H+G\n",
    "    return F"
   ]
  },
  {
   "cell_type": "markdown",
   "metadata": {
    "collapsed": false,
    "pycharm": {
     "name": "#%% md\n"
    }
   },
   "source": [
    "***Total Energy***\n",
    "\n",
    "Total Hartree Fock Energy formula is from Szabo, Ostlund, \"Modern Quantum Chemistry\" p.g.150\n",
    "\n",
    "$E_{HF}=\\frac{1}{2}\\sum_{\\mu}\\sum_{\\nu}P_{\\nu\\mu}(H_{\\mu\\nu}^{core} + F_{\\mu\\nu})$"
   ]
  },
  {
   "cell_type": "code",
   "execution_count": 22,
   "metadata": {
    "collapsed": false,
    "pycharm": {
     "name": "#%%\n"
    }
   },
   "outputs": [],
   "source": [
    "def E_total(p_mat,h_core_mat, F):\n",
    "    num_bf=p_mat.shape[0]\n",
    "    E=0\n",
    "    for mu in range(num_bf):\n",
    "        for nu in range(num_bf):\n",
    "            E+=0.5*p_mat[nu,mu]*(h_core_mat[mu,nu]+ F[mu,nu])\n",
    "    return E"
   ]
  },
  {
   "cell_type": "markdown",
   "metadata": {
    "collapsed": false,
    "pycharm": {
     "name": "#%% md\n"
    }
   },
   "source": [
    "***Printing SCF Data***"
   ]
  },
  {
   "cell_type": "code",
   "execution_count": 23,
   "metadata": {
    "collapsed": false,
    "pycharm": {
     "name": "#%%\n"
    }
   },
   "outputs": [],
   "source": [
    "def print_scf_data(OrbE, s_mat, h_core_mat, Coef, p_mat, verbose): \n",
    "\n",
    "    if (verbose) :\n",
    "        #printing Overlap Matrix\n",
    "        print('Overlap Matrix S')\n",
    "        print(s_mat)\n",
    "\n",
    "        #printing Core Hamiltonian Matrix\n",
    "        print('Core Hamiltonian Matrix H')\n",
    "        print(h_core_mat)\n",
    "\n",
    "        #printing orbital coefficent matrix\n",
    "        print('Orbital Coefficent Matrix Coef')\n",
    "        print(Coef)\n",
    "\n",
    "        #printing Density matrix\n",
    "        print('Density Matrix')\n",
    "        print(p_mat)\n",
    "\n",
    "        #printing AO energies\n",
    "        print('Orbital Energies')\n",
    "        for i,e in enumerate(OrbE):\n",
    "            print('E{}={:.5f} Hartree'.format(i+1, e))\n",
    "        \n",
    "def print_total_E(E, start, stop, delta_E, verbose):\n",
    "        #printing total energy\n",
    "        print('E_0=',E)\n",
    "        if delta_E!=0:\n",
    "            print('Delta E=', delta_E)\n",
    "         \n",
    "        #printing the time elapsed\n",
    "        print('time={:.2f}s'.format(stop-start)) "
   ]
  },
  {
   "cell_type": "markdown",
   "metadata": {
    "collapsed": false,
    "pycharm": {
     "name": "#%% md\n"
    }
   },
   "source": [
    "***Comparision Code***"
   ]
  },
  {
   "cell_type": "code",
   "execution_count": 24,
   "metadata": {
    "collapsed": false,
    "pycharm": {
     "name": "#%%\n"
    }
   },
   "outputs": [],
   "source": [
    "def comp(calculated, reference, tolerance=1.0e-5):\n",
    "    delta_E=np.abs(calculated-reference)\n",
    "    if delta_E < tolerance:\n",
    "        print('----------------------------------------------------------------------PASSED---------------------------------------------------------------------------------')\n",
    "    else:\n",
    "        print('----------------------------------------------------------------------FAILED---------------------------------------------------------------------------------')\n",
    "        print('CALC=',calculated, 'REF=', reference)\n",
    "    return delta_E"
   ]
  },
  {
   "cell_type": "markdown",
   "metadata": {
    "collapsed": false,
    "pycharm": {
     "name": "#%% md\n"
    }
   },
   "source": [
    "***Ionisation Energies Calculation for different isoelectronic species***"
   ]
  },
  {
   "cell_type": "code",
   "execution_count": 25,
   "metadata": {
    "collapsed": false,
    "pycharm": {
     "name": "#%%\n"
    }
   },
   "outputs": [],
   "source": [
    "def ionisation(E1, E2):\n",
    "    ionisation = print(\"Ionisation Energy=\", np.abs(E1-E2))\n",
    "    return ionisation"
   ]
  }
 ],
 "metadata": {
  "kernelspec": {
   "display_name": "Python 3",
   "language": "python",
   "name": "python3"
  },
  "language_info": {
   "codemirror_mode": {
    "name": "ipython",
    "version": 3
   },
   "file_extension": ".py",
   "mimetype": "text/x-python",
   "name": "python",
   "nbconvert_exporter": "python",
   "pygments_lexer": "ipython3",
   "version": "3.9.12"
  },
  "orig_nbformat": 4
 },
 "nbformat": 4,
 "nbformat_minor": 2
}
